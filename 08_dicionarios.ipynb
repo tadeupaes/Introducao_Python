{
 "cells": [
  {
   "cell_type": "markdown",
   "metadata": {},
   "source": [
    "## **Python Essencial para Data Science**\n",
    "**Prof. Dr. Samuel Martins (@hisamuka @xavecoding)** <br/>\n",
    "xavecoding: https://youtube.com/c/xavecoding <br/><br/>\n",
    "\n",
    "<a rel=\"license\" href=\"http://creativecommons.org/licenses/by-nc-sa/4.0/\"><img alt=\"Creative Commons License\" style=\"border-width:0\" src=\"https://i.creativecommons.org/l/by-nc-sa/4.0/88x31.png\" /></a><br />This work is licensed under a <a rel=\"license\" href=\"http://creativecommons.org/licenses/by-nc-sa/4.0/\">Creative Commons Attribution-NonCommercial-ShareAlike 4.0 International License</a>."
   ]
  },
  {
   "cell_type": "markdown",
   "metadata": {},
   "source": [
    "## Dicionários (tabelas hash)\n",
    "Dicionários são tabelas hash: estruturas que mapeiams _chaves_ à _valores_. <br/>\n",
    "Muito utilizado quando queremos **acesso rápido** (_O(1)_) a elementos/valores associados a uma dada chave."
   ]
  },
  {
   "cell_type": "code",
   "execution_count": 1,
   "metadata": {},
   "outputs": [],
   "source": [
    "# ALTERNATIVA 1 ==> VALORES EM VARIÁVEIS SOLTAS\n",
    "nome = 'Luke Skywalker'\n",
    "idade = 16\n",
    "peso = 60.0"
   ]
  },
  {
   "cell_type": "code",
   "execution_count": 2,
   "metadata": {},
   "outputs": [],
   "source": [
    "# ALTERNATIVA 2 (usando listas ou tuplas) ==> você precisa decorar quais são os índices que\n",
    "#                                             guardam cada um dos elementos\n",
    "luke_lista = ['Luke Skywalker', 16, 60.0]"
   ]
  },
  {
   "cell_type": "code",
   "execution_count": 3,
   "metadata": {},
   "outputs": [],
   "source": [
    "# ALTERNATIVA 3 (dicionários)\n",
    "luke = {'nome': 'Luke Skywalker', 'idade': 16, 'peso': 60.0}"
   ]
  },
  {
   "cell_type": "markdown",
   "metadata": {},
   "source": [
    "Neste caso, 'nome', 'idade' e 'peso' sãos as chaves com os respectivos valores 'Luke Skywalker', 16, 60.0."
   ]
  },
  {
   "cell_type": "markdown",
   "metadata": {},
   "source": [
    "Um dado _valor_ é acessado passando a _chave_ via **colchetes**:"
   ]
  },
  {
   "cell_type": "code",
   "execution_count": 4,
   "metadata": {},
   "outputs": [
    {
     "data": {
      "text/plain": [
       "'Luke Skywalker'"
      ]
     },
     "execution_count": 4,
     "metadata": {},
     "output_type": "execute_result"
    }
   ],
   "source": [
    "luke['nome']"
   ]
  },
  {
   "cell_type": "code",
   "execution_count": 5,
   "metadata": {},
   "outputs": [
    {
     "data": {
      "text/plain": [
       "16"
      ]
     },
     "execution_count": 5,
     "metadata": {},
     "output_type": "execute_result"
    }
   ],
   "source": [
    "luke['idade']"
   ]
  },
  {
   "cell_type": "code",
   "execution_count": 6,
   "metadata": {},
   "outputs": [
    {
     "data": {
      "text/plain": [
       "60.0"
      ]
     },
     "execution_count": 6,
     "metadata": {},
     "output_type": "execute_result"
    }
   ],
   "source": [
    "luke['peso']"
   ]
  },
  {
   "cell_type": "markdown",
   "metadata": {},
   "source": [
    "Podemos alterar um valor acessando da mesma maneira:"
   ]
  },
  {
   "cell_type": "code",
   "execution_count": 7,
   "metadata": {},
   "outputs": [
    {
     "name": "stdout",
     "output_type": "stream",
     "text": [
      "{'nome': 'Luke Skywalker', 'idade': 16, 'peso': 70}\n"
     ]
    }
   ],
   "source": [
    "luke['peso'] = 70\n",
    "print(luke)"
   ]
  },
  {
   "cell_type": "markdown",
   "metadata": {},
   "source": [
    "Podemos **adicionar** um novo elemento, apenas informando o novo _par de chaves e valor_:"
   ]
  },
  {
   "cell_type": "code",
   "execution_count": 8,
   "metadata": {},
   "outputs": [
    {
     "name": "stdout",
     "output_type": "stream",
     "text": [
      "{'nome': 'Luke Skywalker', 'idade': 16, 'peso': 70, 'eh_jedi': True}\n"
     ]
    }
   ],
   "source": [
    "luke['eh_jedi'] = True\n",
    "print(luke)"
   ]
  },
  {
   "cell_type": "code",
   "execution_count": 9,
   "metadata": {},
   "outputs": [
    {
     "name": "stdout",
     "output_type": "stream",
     "text": [
      "{'nome': 'Luke Skywalker', 'idade': 16, 'peso': 70, 'eh_jedi': True, 'notas': [10.0, 5.0, 2.2]}\n"
     ]
    }
   ],
   "source": [
    "luke['notas'] = [10.0, 5.0, 2.2]\n",
    "print(luke)"
   ]
  },
  {
   "cell_type": "markdown",
   "metadata": {},
   "source": [
    "Note que usamos **diversos tipos** de _valores_ no mesmo dicionário. Podemos também usar **mais de um tipo de chaves**, apesar que, geralmente, isso não é muito usado."
   ]
  },
  {
   "cell_type": "code",
   "execution_count": 10,
   "metadata": {},
   "outputs": [
    {
     "name": "stdout",
     "output_type": "stream",
     "text": [
      "{'nome': 'Luke Skywalker', 'idade': 16, 'peso': 70, 'eh_jedi': True, 'notas': [10.0, 5.0, 2.2], 1: 'Um'}\n"
     ]
    }
   ],
   "source": [
    "luke[1] = 'Um'\n",
    "print(luke)"
   ]
  },
  {
   "cell_type": "markdown",
   "metadata": {},
   "source": [
    "Para copiar um dicionário:"
   ]
  },
  {
   "cell_type": "code",
   "execution_count": 11,
   "metadata": {},
   "outputs": [
    {
     "name": "stdout",
     "output_type": "stream",
     "text": [
      "{'nome': 'Luke Skywalker', 'idade': 16, 'peso': 70, 'eh_jedi': True, 'notas': [10.0, 5.0, 2.2]}\n",
      "{'nome': 'Luke Skywalker', 'idade': 16, 'peso': 70, 'eh_jedi': True, 'notas': [10.0, 5.0, 2.2], 1: 'Um'}\n"
     ]
    }
   ],
   "source": [
    "luke_copia = dict(luke)  # retorna uma cópia do dicionário `luke`\n",
    "luke.pop(1, None)  # remove a chave 1 do dicionário\n",
    "\n",
    "print(luke)\n",
    "print(luke_copia)"
   ]
  },
  {
   "cell_type": "markdown",
   "metadata": {},
   "source": [
    "#### Checando se um dicionário possui uma dada chave"
   ]
  },
  {
   "cell_type": "code",
   "execution_count": 12,
   "metadata": {},
   "outputs": [
    {
     "data": {
      "text/plain": [
       "{'nome': 'Luke Skywalker',\n",
       " 'idade': 16,\n",
       " 'peso': 70,\n",
       " 'eh_jedi': True,\n",
       " 'notas': [10.0, 5.0, 2.2]}"
      ]
     },
     "execution_count": 12,
     "metadata": {},
     "output_type": "execute_result"
    }
   ],
   "source": [
    "luke"
   ]
  },
  {
   "cell_type": "code",
   "execution_count": 13,
   "metadata": {},
   "outputs": [
    {
     "data": {
      "text/plain": [
       "True"
      ]
     },
     "execution_count": 13,
     "metadata": {},
     "output_type": "execute_result"
    }
   ],
   "source": [
    "'nome' in luke"
   ]
  },
  {
   "cell_type": "code",
   "execution_count": 14,
   "metadata": {},
   "outputs": [
    {
     "data": {
      "text/plain": [
       "False"
      ]
     },
     "execution_count": 14,
     "metadata": {},
     "output_type": "execute_result"
    }
   ],
   "source": [
    "'profissisao' in luke"
   ]
  },
  {
   "cell_type": "code",
   "execution_count": 15,
   "metadata": {},
   "outputs": [
    {
     "data": {
      "text/plain": [
       "True"
      ]
     },
     "execution_count": 15,
     "metadata": {},
     "output_type": "execute_result"
    }
   ],
   "source": [
    "'profissisao' not in luke"
   ]
  },
  {
   "cell_type": "markdown",
   "metadata": {},
   "source": [
    "#### For-each em Dicionários"
   ]
  },
  {
   "cell_type": "code",
   "execution_count": 17,
   "metadata": {},
   "outputs": [
    {
     "name": "stdout",
     "output_type": "stream",
     "text": [
      "luke['nome'] = Luke Skywalker\n",
      "luke['idade'] = 16\n",
      "luke['peso'] = 70\n",
      "luke['eh_jedi'] = True\n",
      "luke['notas'] = [10.0, 5.0, 2.2]\n"
     ]
    }
   ],
   "source": [
    "for chave in luke:\n",
    "    print(f'luke[\\'{chave}\\'] = {luke[chave]}')"
   ]
  },
  {
   "cell_type": "code",
   "execution_count": 18,
   "metadata": {},
   "outputs": [
    {
     "data": {
      "text/plain": [
       "dict_keys(['nome', 'idade', 'peso', 'eh_jedi', 'notas'])"
      ]
     },
     "execution_count": 18,
     "metadata": {},
     "output_type": "execute_result"
    }
   ],
   "source": [
    "luke.keys()  # retorna uma lista com todas as chaves do dicionário"
   ]
  },
  {
   "cell_type": "code",
   "execution_count": 19,
   "metadata": {},
   "outputs": [
    {
     "name": "stdout",
     "output_type": "stream",
     "text": [
      "luke['nome'] = Luke Skywalker\n",
      "luke['idade'] = 16\n",
      "luke['peso'] = 70\n",
      "luke['eh_jedi'] = True\n",
      "luke['notas'] = [10.0, 5.0, 2.2]\n"
     ]
    }
   ],
   "source": [
    "for chave in luke.keys():\n",
    "    print(f'luke[\\'{chave}\\'] = {luke[chave]}')"
   ]
  },
  {
   "cell_type": "code",
   "execution_count": 20,
   "metadata": {},
   "outputs": [
    {
     "data": {
      "text/plain": [
       "dict_values(['Luke Skywalker', 16, 70, True, [10.0, 5.0, 2.2]])"
      ]
     },
     "execution_count": 20,
     "metadata": {},
     "output_type": "execute_result"
    }
   ],
   "source": [
    "luke.values()  # retorna uma lista com todos os valores do dicionário"
   ]
  },
  {
   "cell_type": "code",
   "execution_count": 21,
   "metadata": {},
   "outputs": [
    {
     "name": "stdout",
     "output_type": "stream",
     "text": [
      "Luke Skywalker\n",
      "16\n",
      "70\n",
      "True\n",
      "[10.0, 5.0, 2.2]\n"
     ]
    }
   ],
   "source": [
    "for valor in luke.values():\n",
    "    print(f'{valor}')"
   ]
  },
  {
   "cell_type": "code",
   "execution_count": 22,
   "metadata": {},
   "outputs": [
    {
     "data": {
      "text/plain": [
       "dict_items([('nome', 'Luke Skywalker'), ('idade', 16), ('peso', 70), ('eh_jedi', True), ('notas', [10.0, 5.0, 2.2])])"
      ]
     },
     "execution_count": 22,
     "metadata": {},
     "output_type": "execute_result"
    }
   ],
   "source": [
    "luke.items()  # retorna uma lista de tuplas, onde cada tupla representa um pair chave e valor do dicionário"
   ]
  },
  {
   "cell_type": "code",
   "execution_count": 24,
   "metadata": {},
   "outputs": [
    {
     "name": "stdout",
     "output_type": "stream",
     "text": [
      "luke['nome'] = Luke Skywalker\n",
      "luke['idade'] = 16\n",
      "luke['peso'] = 70\n",
      "luke['eh_jedi'] = True\n",
      "luke['notas'] = [10.0, 5.0, 2.2]\n"
     ]
    }
   ],
   "source": [
    "for chave, valor in luke.items():\n",
    "    print(f'luke[\\'{chave}\\'] = {valor}')"
   ]
  },
  {
   "cell_type": "markdown",
   "metadata": {},
   "source": [
    "#### Dictionary Comprehensions"
   ]
  },
  {
   "cell_type": "code",
   "execution_count": 25,
   "metadata": {},
   "outputs": [
    {
     "name": "stdout",
     "output_type": "stream",
     "text": [
      "['Mercúrio', 'Vênus', 'Terra', 'Marte', 'Júpiter', 'Saturno', 'Urano', 'Netuno']\n"
     ]
    }
   ],
   "source": [
    "planetas = ['Mercúrio', 'Vênus', 'Terra', 'Marte', 'Júpiter', 'Saturno', 'Urano', 'Netuno']\n",
    "print(planetas)"
   ]
  },
  {
   "cell_type": "code",
   "execution_count": 27,
   "metadata": {},
   "outputs": [
    {
     "data": {
      "text/plain": [
       "{'Mercúrio': 'M',\n",
       " 'Vênus': 'V',\n",
       " 'Terra': 'T',\n",
       " 'Marte': 'M',\n",
       " 'Júpiter': 'J',\n",
       " 'Saturno': 'S',\n",
       " 'Urano': 'U',\n",
       " 'Netuno': 'N'}"
      ]
     },
     "execution_count": 27,
     "metadata": {},
     "output_type": "execute_result"
    }
   ],
   "source": [
    "# queremos construir um dicionário, onde cada chave é o nome do planeta, e seu respectivo valor é a inicial do planeta\n",
    "iniciais_dos_planetas = {plan: plan[0]  for plan in planetas}  # para cada planeta da nossa lista\n",
    "iniciais_dos_planetas"
   ]
  },
  {
   "cell_type": "code",
   "execution_count": null,
   "metadata": {},
   "outputs": [],
   "source": []
  }
 ],
 "metadata": {
  "kernelspec": {
   "display_name": "Python 3",
   "language": "python",
   "name": "python3"
  },
  "language_info": {
   "codemirror_mode": {
    "name": "ipython",
    "version": 3
   },
   "file_extension": ".py",
   "mimetype": "text/x-python",
   "name": "python",
   "nbconvert_exporter": "python",
   "pygments_lexer": "ipython3",
   "version": "3.8.5"
  }
 },
 "nbformat": 4,
 "nbformat_minor": 4
}
